{
 "cells": [
  {
   "cell_type": "markdown",
   "id": "a02dfbf8-7abb-41c2-945c-ef3d38c46d2d",
   "metadata": {},
   "source": [
    "# MID-TERM BDAT-1004\n",
    "Question 23"
   ]
  },
  {
   "cell_type": "code",
   "execution_count": 2,
   "id": "e51829fa-d496-42f7-b72b-3f666e9816ec",
   "metadata": {},
   "outputs": [
    {
     "name": "stdout",
     "output_type": "stream",
     "text": [
      "****\n",
      " ***\n",
      "  **\n",
      "   *\n",
      "   *\n",
      "  **\n",
      " ***\n",
      "****\n"
     ]
    }
   ],
   "source": [
    "def tough(indent, stars):\n",
    "    if stars > 0:\n",
    "        \n",
    "        print(\" \" * indent + \"*\" * stars)\n",
    "        \n",
    "        tough(indent + 1, stars - 1)\n",
    "        \n",
    "        print(\" \" * indent + \"*\" * stars)\n",
    "\n",
    "\n",
    "tough(0, 4)  # Indentation of 0, longest line with 4 stars\n"
   ]
  },
  {
   "cell_type": "code",
   "execution_count": null,
   "id": "43a93ab7-f062-4518-94bb-720451888815",
   "metadata": {},
   "outputs": [],
   "source": []
  }
 ],
 "metadata": {
  "kernelspec": {
   "display_name": "Python 3 (ipykernel)",
   "language": "python",
   "name": "python3"
  },
  "language_info": {
   "codemirror_mode": {
    "name": "ipython",
    "version": 3
   },
   "file_extension": ".py",
   "mimetype": "text/x-python",
   "name": "python",
   "nbconvert_exporter": "python",
   "pygments_lexer": "ipython3",
   "version": "3.12.4"
  }
 },
 "nbformat": 4,
 "nbformat_minor": 5
}
